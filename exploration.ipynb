{
 "cells": [
  {
   "cell_type": "markdown",
   "metadata": {
    "tags": []
   },
   "source": [
    "# **Written by Zachary Pulliam**\n",
    "_____________________________________________________________________________________________________________________________________________________________________________________________\n",
    "\n",
    "This notebook is used to explore both the synthetic and pokemon datasets in order to determine descretization values. The discretization bins can be changed in the bins.py file.\n",
    "\n",
    "_____________________________________________________________________________________________________________________________________________________________________________________________"
   ]
  },
  {
   "cell_type": "markdown",
   "metadata": {},
   "source": [
    "**Exploring the synthetic datasets**"
   ]
  },
  {
   "cell_type": "code",
   "execution_count": 22,
   "metadata": {},
   "outputs": [],
   "source": [
    "# load data\n",
    "import os\n",
    "import pandas as pd\n",
    "import matplotlib.pyplot as plt\n",
    "\n",
    "ROOT = ''   # change to your ROOT directory (where the data is located)\n",
    "\n",
    "df1 = pd.read_csv(os.path.join(ROOT, 'synthetic-1.csv'), names=['A','B','Label'])\n",
    "df2 = pd.read_csv(os.path.join(ROOT, 'synthetic-2.csv'), names=['A','B','Label'])\n",
    "df3 = pd.read_csv(os.path.join(ROOT, 'synthetic-3.csv'), names=['A','B','Label'])\n",
    "df4 = pd.read_csv(os.path.join(ROOT, 'synthetic-4.csv'), names=['A','B','Label'])\n",
    "\n",
    "frames = [df1, df2, df3, df4]\n",
    "full_df = pd.concat(frames, ignore_index=True)"
   ]
  },
  {
   "cell_type": "code",
   "execution_count": null,
   "metadata": {},
   "outputs": [],
   "source": [
    "# print min and max of each column of each dataframe\n",
    "for frame in frames:\n",
    "    print()\n",
    "    for column in frame:\n",
    "        print(column, '- [', frame[column].max(), ',', frame[column].min(), ']')\n",
    "    print('')"
   ]
  },
  {
   "cell_type": "code",
   "execution_count": null,
   "metadata": {},
   "outputs": [],
   "source": [
    "# graph distributions for each dataset\n",
    "for frame in frames:\n",
    "    fig, axes = plt.subplots(1, 2)\n",
    "    frame.hist('A', ax=axes[0])\n",
    "    frame.hist('B', ax=axes[1])"
   ]
  },
  {
   "cell_type": "code",
   "execution_count": null,
   "id": "728e49c7",
   "metadata": {},
   "outputs": [],
   "source": [
    "# plot data\n",
    "import pandas as pd\n",
    "import matplotlib.pyplot as plt\n",
    "from matplotlib.patches import Rectangle\n",
    "\n",
    "df1, df2, df3, df4 = pd.read_csv(ROOT + '/synthetic-1.csv', names=['A','B','Label']), pd.read_csv(ROOT + '/synthetic-2.csv', names=['A','B','Label']), \\\n",
    "    pd.read_csv(ROOT + '/synthetic-3.csv', names=['A','B','Label']), pd.read_csv(ROOT + '/synthetic-4.csv', names=['A','B','Label'])\n",
    "\n",
    "frames = [df1, df2, df3, df4]\n",
    "\n",
    "for frame in frames:\n",
    "\n",
    "    df_t = frame.loc[frame['Label'] == 1]\n",
    "    df_f = frame.loc[frame['Label'] == 0]\n",
    "\n",
    "    colors = {0:'tab:blue', 1:'tab:orange'}\n",
    "\n",
    "    fig, ax = plt.subplots(figsize=(7,7))\n",
    "    ax.scatter(df_t.A, df_t.B, c='tab:blue')\n",
    "    ax.scatter(df_f.A, df_f.B, c='tab:orange')\n",
    "    plt.xlabel(\"A\")\n",
    "    plt.ylabel(\"B\")\n",
    "    plt.title(\"PLOT\")\n",
    "    plt.show()"
   ]
  },
  {
   "cell_type": "markdown",
   "id": "49844bf2",
   "metadata": {},
   "source": [
    "**Exploring the Pokemon dataset**"
   ]
  },
  {
   "cell_type": "code",
   "execution_count": 4,
   "id": "43d42144",
   "metadata": {},
   "outputs": [],
   "source": [
    "# load data\n",
    "import pandas as pd\n",
    "import matplotlib.pyplot as plt\n",
    "\n",
    "ROOT = ''  # change to your ROOT directory\n",
    "\n",
    "df = pd.read_csv(ROOT+ '/pokemonStats.csv')"
   ]
  },
  {
   "cell_type": "code",
   "execution_count": null,
   "id": "d86de5de",
   "metadata": {},
   "outputs": [],
   "source": [
    "# print min and max of each column of each dataframe\n",
    "for column in list(df)[0:8]:\n",
    "    print(column, '- [', df[column].max(), ',', df[column].min(), ']')\n",
    "print('')"
   ]
  }
 ],
 "metadata": {
  "interpreter": {
   "hash": "41aeef5d7ecdaf96db70c8d403415fc038d8aead0534bf69ccbfd7d0d5332a45"
  },
  "kernelspec": {
   "display_name": "Python 3.9.1 64-bit",
   "name": "python3"
  },
  "language_info": {
   "codemirror_mode": {
    "name": "ipython",
    "version": 3
   },
   "file_extension": ".py",
   "mimetype": "text/x-python",
   "name": "python",
   "nbconvert_exporter": "python",
   "pygments_lexer": "ipython3",
   "version": "3.8.12"
  }
 },
 "nbformat": 4,
 "nbformat_minor": 5
}
